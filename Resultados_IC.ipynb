{
  "nbformat": 4,
  "nbformat_minor": 0,
  "metadata": {
    "colab": {
      "provenance": []
    },
    "kernelspec": {
      "name": "python3",
      "display_name": "Python 3"
    },
    "language_info": {
      "name": "python"
    }
  },
  "cells": [
    {
      "cell_type": "markdown",
      "source": [
        "# Imports"
      ],
      "metadata": {
        "id": "vWmVtOc8wEL5"
      }
    },
    {
      "cell_type": "code",
      "execution_count": null,
      "metadata": {
        "id": "6WnOcY3dv0xi"
      },
      "outputs": [],
      "source": [
        "import numpy as np\n",
        "from numpy.linalg import LinAlgError\n",
        "import matplotlib.pyplot as plt\n",
        "from sklearn.datasets import fetch_olivetti_faces\n",
        "from sklearn import decomposition\n",
        "from skimage.util import random_noise\n",
        "from sklearn.decomposition import PCA, KernelPCA\n",
        "import pandas as pd"
      ]
    },
    {
      "cell_type": "markdown",
      "source": [
        "# Finding the best combination of hyperparams for one image"
      ],
      "metadata": {
        "id": "DcrNaQdw1Nqx"
      }
    },
    {
      "cell_type": "markdown",
      "source": [
        "Após estudo sobre decomposição SVD, PCA e Kernel PCA, foi realizado um experimento para encontrar a melhor combinação de hiperparâmetros, para uma imagem em específico no Dataset Olivetti Faces. As etapas feitas são descritas a seguir.\n",
        "\n",
        "O dataset é descrito como: \"Há dez imagens diferentes de cada um dos 40 indivíduos distintos. Para alguns desses indivíduos, as imagens foram tiradas em momentos diferentes, variando a iluminação, as expressões faciais (olhos abertos/fechados, sorrindo/não sorrindo) e os detalhes faciais (com/sem óculos). Todas as imagens foram tiradas contra um fundo escuro e homogêneo, com os indivíduos em posição ereta e frontal (com tolerância para algum movimento lateral).\"\n",
        "\n",
        "O experimento foi conduzido aplicando ruído a uma imagem e em seguida, um código em Python (ver: https://colab.research.google.com/drive/1QmmTbFbr2Px6oqdGrCFR5k1o0jMaP3PJ?usp=sharing) foi feito para aplicar a função KernelPCA com diferentes combinações de kernel, gamma, degree e coef0, parametros da função. Foram testados os cinco tipos de kernel, quatro valores de gama, cinco valores de grau e três valores de coeficiente. O experimento se repetiu para sete ruídos que a função random_noise pode aplicar, sendo eles: gaussiano, localvar, pimenta, sal, sal e pimenta, poisson e speckle.\n",
        "\n",
        "Para cada combinação, foi calculado o Erro Quadrático Médio (MSE) e Relação Sinal-Ruído de Pico (PSNR). Todas as informações referentes a cada combinação foram salvas em um dataframe, por ruído, e exportados em arquivos csv."
      ],
      "metadata": {
        "id": "AxQPjq-TsXrY"
      }
    },
    {
      "cell_type": "code",
      "source": [
        "gaussian_results = pd.read_csv('/content/drive/MyDrive/Colab Notebooks/IC-Results/gaussian_scores.csv')"
      ],
      "metadata": {
        "id": "QU07vfgy1I2R"
      },
      "execution_count": null,
      "outputs": []
    },
    {
      "cell_type": "code",
      "source": [
        "localvar_results = pd.read_csv('/content/drive/MyDrive/Colab Notebooks/IC-Results/localvar_scores.csv')"
      ],
      "metadata": {
        "id": "2f8f9j1CpZxz"
      },
      "execution_count": null,
      "outputs": []
    },
    {
      "cell_type": "code",
      "source": [
        "pepper_results = pd.read_csv('/content/drive/MyDrive/Colab Notebooks/IC-Results/pepper_scores.csv')"
      ],
      "metadata": {
        "id": "BRNwglFLphPz"
      },
      "execution_count": null,
      "outputs": []
    },
    {
      "cell_type": "code",
      "source": [
        "poisson_results = pd.read_csv('/content/drive/MyDrive/Colab Notebooks/IC-Results/poisson_scores.csv')"
      ],
      "metadata": {
        "id": "HATjawhQpt6k"
      },
      "execution_count": null,
      "outputs": []
    },
    {
      "cell_type": "code",
      "source": [
        "sp_results = pd.read_csv('/content/drive/MyDrive/Colab Notebooks/IC-Results/s&p_scores.csv')"
      ],
      "metadata": {
        "id": "-HarvUrKp0Mk"
      },
      "execution_count": null,
      "outputs": []
    },
    {
      "cell_type": "code",
      "source": [
        "salt_results = pd.read_csv('/content/drive/MyDrive/Colab Notebooks/IC-Results/salt_scores.csv')"
      ],
      "metadata": {
        "id": "vIbD35GRqBHc"
      },
      "execution_count": null,
      "outputs": []
    },
    {
      "cell_type": "code",
      "source": [
        "speckle_results = pd.read_csv('/content/drive/MyDrive/Colab Notebooks/IC-Results/speckle_scores.csv')"
      ],
      "metadata": {
        "id": "1i6wcvCzqCqs"
      },
      "execution_count": null,
      "outputs": []
    },
    {
      "cell_type": "markdown",
      "source": [
        "# Comparison"
      ],
      "metadata": {
        "id": "UYtE2YJM1ZuS"
      }
    },
    {
      "cell_type": "markdown",
      "source": [
        "Por fim, temos a comparação dos resultados, ordenando os datasets com base no PSNR, de forma decrescente, ou seja, os melhores resultados aparecem primeiro. Com isso, é perceptível que a combinação kernel: poly, gamma: 0.001, degree: 3, e coef0: 1 foi o que mais apareceu entre as 5 melhores colocações."
      ],
      "metadata": {
        "id": "6IjoI_sis13w"
      }
    },
    {
      "cell_type": "code",
      "source": [
        "gaussian_results_sorted = gaussian_results.sort_values(by='PSNR', ascending=False)\n",
        "localvar_results_sorted = localvar_results.sort_values(by='PSNR', ascending=False)\n",
        "pepper_results_sorted = pepper_results.sort_values(by='PSNR', ascending=False)\n",
        "poisson_results_sorted = poisson_results.sort_values(by='PSNR', ascending=False)\n",
        "sp_results_sorted = sp_results.sort_values(by='PSNR', ascending=False)\n",
        "salt_results_sorted = salt_results.sort_values(by='PSNR', ascending=False)\n",
        "speckle_results_sorted = speckle_results.sort_values(by='PSNR', ascending=False)"
      ],
      "metadata": {
        "id": "yjwW0ZGRq8AE"
      },
      "execution_count": null,
      "outputs": []
    },
    {
      "cell_type": "code",
      "source": [
        "print(' Gaussian\\n', gaussian_results_sorted.head())\n",
        "print('\\n Localvar\\n', localvar_results_sorted.head())\n",
        "print('\\n Pepper\\n', pepper_results_sorted.head())\n",
        "print('\\n Poisson\\n', poisson_results_sorted.head())\n",
        "print('\\n Salt & Pepper\\n', sp_results_sorted.head())\n",
        "print('\\n Salt\\n', salt_results_sorted.head())\n",
        "print('\\n Speckle\\n', speckle_results_sorted.head())"
      ],
      "metadata": {
        "colab": {
          "base_uri": "https://localhost:8080/"
        },
        "id": "1lP_-FTcrm2k",
        "outputId": "06e4ed81-4abb-43f5-843f-01af75bc9a09"
      },
      "execution_count": null,
      "outputs": [
        {
          "output_type": "stream",
          "name": "stdout",
          "text": [
            " Gaussian\n",
            "     Kernel    Gamma  Degree  Coef0       MSE       PSNR\n",
            "124   poly  0.00100       3      1  0.002488  25.724881\n",
            "161   poly  0.00001       5     10  0.002612  25.514682\n",
            "143   poly  0.00010       4     10  0.002621  25.498332\n",
            "122   poly  0.00100       2     10  0.002648  25.454544\n",
            "140   poly  0.00010       3     10  0.002706  25.360977\n",
            "\n",
            " Localvar\n",
            "     Kernel     Gamma  Degree  Coef0       MSE       PSNR\n",
            "161   poly  0.000010       5     10  0.002436  25.817350\n",
            "122   poly  0.001000       2     10  0.002484  25.732642\n",
            "124   poly  0.001000       3      1  0.002493  25.717300\n",
            "179   poly  0.000001       6     10  0.002499  25.706244\n",
            "143   poly  0.000100       4     10  0.002504  25.697481\n",
            "\n",
            " Pepper\n",
            "     Kernel  Gamma  Degree  Coef0       MSE       PSNR\n",
            "124   poly  0.001       3      1  0.004363  23.286171\n",
            "122   poly  0.001       2     10  0.005493  22.285946\n",
            "121   poly  0.001       2      1  0.006256  21.720840\n",
            "127   poly  0.001       4      1  0.006354  21.652899\n",
            "130   poly  0.001       5      1  0.008574  20.351736\n",
            "\n",
            " Poisson\n",
            "     Kernel    Gamma  Degree  Coef0       MSE       PSNR\n",
            "125   poly  0.00100       3     10  0.001352  28.373619\n",
            "133   poly  0.00100       6      1  0.001382  28.279466\n",
            "143   poly  0.00010       4     10  0.001525  27.850907\n",
            "130   poly  0.00100       5      1  0.001603  27.635232\n",
            "161   poly  0.00001       5     10  0.001729  27.305158\n",
            "\n",
            " Salt & Pepper\n",
            "     Kernel  Gamma  Degree  Coef0       MSE       PSNR\n",
            "124   poly  0.001       3      1  0.002847  25.140478\n",
            "122   poly  0.001       2     10  0.003184  24.653389\n",
            "127   poly  0.001       4      1  0.003532  24.203007\n",
            "121   poly  0.001       2      1  0.004500  23.151112\n",
            "130   poly  0.001       5      1  0.004750  22.916462\n",
            "\n",
            " Salt\n",
            "     Kernel  Gamma  Degree  Coef0       MSE       PSNR\n",
            "130   poly  0.001       5      1  0.002764  25.267603\n",
            "124   poly  0.001       3      1  0.002871  25.103235\n",
            "127   poly  0.001       4      1  0.002879  25.090850\n",
            "122   poly  0.001       2     10  0.002951  24.984625\n",
            "133   poly  0.001       6      1  0.003454  24.300024\n",
            "\n",
            " Speckle\n",
            "     Kernel    Gamma  Degree  Coef0       MSE       PSNR\n",
            "125   poly  0.00100       3     10  0.001680  27.431588\n",
            "143   poly  0.00010       4     10  0.001760  27.228195\n",
            "130   poly  0.00100       5      1  0.001840  27.035122\n",
            "133   poly  0.00100       6      1  0.001888  26.922976\n",
            "161   poly  0.00001       5     10  0.001907  26.880270\n"
          ]
        }
      ]
    },
    {
      "cell_type": "markdown",
      "source": [
        "# Finding the best number of principal components in PCA method"
      ],
      "metadata": {
        "id": "aESzId93CG_9"
      }
    },
    {
      "cell_type": "markdown",
      "source": [
        "Após encontrar a melhor combinação de hiperparâmetros, foi realizado experimentos para comparar o desempenho da redução de ruído numa imagem, aplicando o PCA e o Kernel PCA.\n",
        "A comparação consistiu  em aplicar o PCA variando o número de componentes de 0 a 200, para cada tipo de ruído. Com isso, foi possível perceber que o número de componentes principais que obteve melhor desempenho segundo a métrica PSNR foi 109. A seguir, seguem os resultados obtidos em forma de dataframe."
      ],
      "metadata": {
        "id": "1Zz4rxB0CTVc"
      }
    },
    {
      "cell_type": "code",
      "source": [
        "pca_components_results = pd.read_csv('/content/drive/MyDrive/Colab Notebooks/IC-Results/pca_components_scores.csv')\n",
        "pca_components_results"
      ],
      "metadata": {
        "colab": {
          "base_uri": "https://localhost:8080/",
          "height": 424
        },
        "id": "8WnwkHydCSRM",
        "outputId": "42f95d76-35eb-4eae-e8ca-e53233ee6eab"
      },
      "execution_count": null,
      "outputs": [
        {
          "output_type": "execute_result",
          "data": {
            "text/plain": [
              "        N    Noise       MSE       PSNR\n",
              "0     109  speckle  0.001832  27.055149\n",
              "1     101  speckle  0.001838  27.040063\n",
              "2     104  speckle  0.001839  27.037664\n",
              "3      92  speckle  0.001843  27.027933\n",
              "4      98  speckle  0.001844  27.026599\n",
              "...   ...      ...       ...        ...\n",
              "1795  199   pepper  0.018348  17.047741\n",
              "1796  191   pepper  0.018413  17.032309\n",
              "1797  195   pepper  0.018484  17.015751\n",
              "1798    0   pepper  0.021132  16.434361\n",
              "1799    0   pepper  0.021142  16.432198\n",
              "\n",
              "[1800 rows x 4 columns]"
            ],
            "text/html": [
              "\n",
              "  <div id=\"df-5544ba18-d745-4c69-9da3-6a4dcb47e0f8\" class=\"colab-df-container\">\n",
              "    <div>\n",
              "<style scoped>\n",
              "    .dataframe tbody tr th:only-of-type {\n",
              "        vertical-align: middle;\n",
              "    }\n",
              "\n",
              "    .dataframe tbody tr th {\n",
              "        vertical-align: top;\n",
              "    }\n",
              "\n",
              "    .dataframe thead th {\n",
              "        text-align: right;\n",
              "    }\n",
              "</style>\n",
              "<table border=\"1\" class=\"dataframe\">\n",
              "  <thead>\n",
              "    <tr style=\"text-align: right;\">\n",
              "      <th></th>\n",
              "      <th>N</th>\n",
              "      <th>Noise</th>\n",
              "      <th>MSE</th>\n",
              "      <th>PSNR</th>\n",
              "    </tr>\n",
              "  </thead>\n",
              "  <tbody>\n",
              "    <tr>\n",
              "      <th>0</th>\n",
              "      <td>109</td>\n",
              "      <td>speckle</td>\n",
              "      <td>0.001832</td>\n",
              "      <td>27.055149</td>\n",
              "    </tr>\n",
              "    <tr>\n",
              "      <th>1</th>\n",
              "      <td>101</td>\n",
              "      <td>speckle</td>\n",
              "      <td>0.001838</td>\n",
              "      <td>27.040063</td>\n",
              "    </tr>\n",
              "    <tr>\n",
              "      <th>2</th>\n",
              "      <td>104</td>\n",
              "      <td>speckle</td>\n",
              "      <td>0.001839</td>\n",
              "      <td>27.037664</td>\n",
              "    </tr>\n",
              "    <tr>\n",
              "      <th>3</th>\n",
              "      <td>92</td>\n",
              "      <td>speckle</td>\n",
              "      <td>0.001843</td>\n",
              "      <td>27.027933</td>\n",
              "    </tr>\n",
              "    <tr>\n",
              "      <th>4</th>\n",
              "      <td>98</td>\n",
              "      <td>speckle</td>\n",
              "      <td>0.001844</td>\n",
              "      <td>27.026599</td>\n",
              "    </tr>\n",
              "    <tr>\n",
              "      <th>...</th>\n",
              "      <td>...</td>\n",
              "      <td>...</td>\n",
              "      <td>...</td>\n",
              "      <td>...</td>\n",
              "    </tr>\n",
              "    <tr>\n",
              "      <th>1795</th>\n",
              "      <td>199</td>\n",
              "      <td>pepper</td>\n",
              "      <td>0.018348</td>\n",
              "      <td>17.047741</td>\n",
              "    </tr>\n",
              "    <tr>\n",
              "      <th>1796</th>\n",
              "      <td>191</td>\n",
              "      <td>pepper</td>\n",
              "      <td>0.018413</td>\n",
              "      <td>17.032309</td>\n",
              "    </tr>\n",
              "    <tr>\n",
              "      <th>1797</th>\n",
              "      <td>195</td>\n",
              "      <td>pepper</td>\n",
              "      <td>0.018484</td>\n",
              "      <td>17.015751</td>\n",
              "    </tr>\n",
              "    <tr>\n",
              "      <th>1798</th>\n",
              "      <td>0</td>\n",
              "      <td>pepper</td>\n",
              "      <td>0.021132</td>\n",
              "      <td>16.434361</td>\n",
              "    </tr>\n",
              "    <tr>\n",
              "      <th>1799</th>\n",
              "      <td>0</td>\n",
              "      <td>pepper</td>\n",
              "      <td>0.021142</td>\n",
              "      <td>16.432198</td>\n",
              "    </tr>\n",
              "  </tbody>\n",
              "</table>\n",
              "<p>1800 rows × 4 columns</p>\n",
              "</div>\n",
              "    <div class=\"colab-df-buttons\">\n",
              "\n",
              "  <div class=\"colab-df-container\">\n",
              "    <button class=\"colab-df-convert\" onclick=\"convertToInteractive('df-5544ba18-d745-4c69-9da3-6a4dcb47e0f8')\"\n",
              "            title=\"Convert this dataframe to an interactive table.\"\n",
              "            style=\"display:none;\">\n",
              "\n",
              "  <svg xmlns=\"http://www.w3.org/2000/svg\" height=\"24px\" viewBox=\"0 -960 960 960\">\n",
              "    <path d=\"M120-120v-720h720v720H120Zm60-500h600v-160H180v160Zm220 220h160v-160H400v160Zm0 220h160v-160H400v160ZM180-400h160v-160H180v160Zm440 0h160v-160H620v160ZM180-180h160v-160H180v160Zm440 0h160v-160H620v160Z\"/>\n",
              "  </svg>\n",
              "    </button>\n",
              "\n",
              "  <style>\n",
              "    .colab-df-container {\n",
              "      display:flex;\n",
              "      gap: 12px;\n",
              "    }\n",
              "\n",
              "    .colab-df-convert {\n",
              "      background-color: #E8F0FE;\n",
              "      border: none;\n",
              "      border-radius: 50%;\n",
              "      cursor: pointer;\n",
              "      display: none;\n",
              "      fill: #1967D2;\n",
              "      height: 32px;\n",
              "      padding: 0 0 0 0;\n",
              "      width: 32px;\n",
              "    }\n",
              "\n",
              "    .colab-df-convert:hover {\n",
              "      background-color: #E2EBFA;\n",
              "      box-shadow: 0px 1px 2px rgba(60, 64, 67, 0.3), 0px 1px 3px 1px rgba(60, 64, 67, 0.15);\n",
              "      fill: #174EA6;\n",
              "    }\n",
              "\n",
              "    .colab-df-buttons div {\n",
              "      margin-bottom: 4px;\n",
              "    }\n",
              "\n",
              "    [theme=dark] .colab-df-convert {\n",
              "      background-color: #3B4455;\n",
              "      fill: #D2E3FC;\n",
              "    }\n",
              "\n",
              "    [theme=dark] .colab-df-convert:hover {\n",
              "      background-color: #434B5C;\n",
              "      box-shadow: 0px 1px 3px 1px rgba(0, 0, 0, 0.15);\n",
              "      filter: drop-shadow(0px 1px 2px rgba(0, 0, 0, 0.3));\n",
              "      fill: #FFFFFF;\n",
              "    }\n",
              "  </style>\n",
              "\n",
              "    <script>\n",
              "      const buttonEl =\n",
              "        document.querySelector('#df-5544ba18-d745-4c69-9da3-6a4dcb47e0f8 button.colab-df-convert');\n",
              "      buttonEl.style.display =\n",
              "        google.colab.kernel.accessAllowed ? 'block' : 'none';\n",
              "\n",
              "      async function convertToInteractive(key) {\n",
              "        const element = document.querySelector('#df-5544ba18-d745-4c69-9da3-6a4dcb47e0f8');\n",
              "        const dataTable =\n",
              "          await google.colab.kernel.invokeFunction('convertToInteractive',\n",
              "                                                    [key], {});\n",
              "        if (!dataTable) return;\n",
              "\n",
              "        const docLinkHtml = 'Like what you see? Visit the ' +\n",
              "          '<a target=\"_blank\" href=https://colab.research.google.com/notebooks/data_table.ipynb>data table notebook</a>'\n",
              "          + ' to learn more about interactive tables.';\n",
              "        element.innerHTML = '';\n",
              "        dataTable['output_type'] = 'display_data';\n",
              "        await google.colab.output.renderOutput(dataTable, element);\n",
              "        const docLink = document.createElement('div');\n",
              "        docLink.innerHTML = docLinkHtml;\n",
              "        element.appendChild(docLink);\n",
              "      }\n",
              "    </script>\n",
              "  </div>\n",
              "\n",
              "\n",
              "    <div id=\"df-8b8e69d0-642d-48a7-95b8-9edcd5abde77\">\n",
              "      <button class=\"colab-df-quickchart\" onclick=\"quickchart('df-8b8e69d0-642d-48a7-95b8-9edcd5abde77')\"\n",
              "                title=\"Suggest charts\"\n",
              "                style=\"display:none;\">\n",
              "\n",
              "<svg xmlns=\"http://www.w3.org/2000/svg\" height=\"24px\"viewBox=\"0 0 24 24\"\n",
              "     width=\"24px\">\n",
              "    <g>\n",
              "        <path d=\"M19 3H5c-1.1 0-2 .9-2 2v14c0 1.1.9 2 2 2h14c1.1 0 2-.9 2-2V5c0-1.1-.9-2-2-2zM9 17H7v-7h2v7zm4 0h-2V7h2v10zm4 0h-2v-4h2v4z\"/>\n",
              "    </g>\n",
              "</svg>\n",
              "      </button>\n",
              "\n",
              "<style>\n",
              "  .colab-df-quickchart {\n",
              "      --bg-color: #E8F0FE;\n",
              "      --fill-color: #1967D2;\n",
              "      --hover-bg-color: #E2EBFA;\n",
              "      --hover-fill-color: #174EA6;\n",
              "      --disabled-fill-color: #AAA;\n",
              "      --disabled-bg-color: #DDD;\n",
              "  }\n",
              "\n",
              "  [theme=dark] .colab-df-quickchart {\n",
              "      --bg-color: #3B4455;\n",
              "      --fill-color: #D2E3FC;\n",
              "      --hover-bg-color: #434B5C;\n",
              "      --hover-fill-color: #FFFFFF;\n",
              "      --disabled-bg-color: #3B4455;\n",
              "      --disabled-fill-color: #666;\n",
              "  }\n",
              "\n",
              "  .colab-df-quickchart {\n",
              "    background-color: var(--bg-color);\n",
              "    border: none;\n",
              "    border-radius: 50%;\n",
              "    cursor: pointer;\n",
              "    display: none;\n",
              "    fill: var(--fill-color);\n",
              "    height: 32px;\n",
              "    padding: 0;\n",
              "    width: 32px;\n",
              "  }\n",
              "\n",
              "  .colab-df-quickchart:hover {\n",
              "    background-color: var(--hover-bg-color);\n",
              "    box-shadow: 0 1px 2px rgba(60, 64, 67, 0.3), 0 1px 3px 1px rgba(60, 64, 67, 0.15);\n",
              "    fill: var(--button-hover-fill-color);\n",
              "  }\n",
              "\n",
              "  .colab-df-quickchart-complete:disabled,\n",
              "  .colab-df-quickchart-complete:disabled:hover {\n",
              "    background-color: var(--disabled-bg-color);\n",
              "    fill: var(--disabled-fill-color);\n",
              "    box-shadow: none;\n",
              "  }\n",
              "\n",
              "  .colab-df-spinner {\n",
              "    border: 2px solid var(--fill-color);\n",
              "    border-color: transparent;\n",
              "    border-bottom-color: var(--fill-color);\n",
              "    animation:\n",
              "      spin 1s steps(1) infinite;\n",
              "  }\n",
              "\n",
              "  @keyframes spin {\n",
              "    0% {\n",
              "      border-color: transparent;\n",
              "      border-bottom-color: var(--fill-color);\n",
              "      border-left-color: var(--fill-color);\n",
              "    }\n",
              "    20% {\n",
              "      border-color: transparent;\n",
              "      border-left-color: var(--fill-color);\n",
              "      border-top-color: var(--fill-color);\n",
              "    }\n",
              "    30% {\n",
              "      border-color: transparent;\n",
              "      border-left-color: var(--fill-color);\n",
              "      border-top-color: var(--fill-color);\n",
              "      border-right-color: var(--fill-color);\n",
              "    }\n",
              "    40% {\n",
              "      border-color: transparent;\n",
              "      border-right-color: var(--fill-color);\n",
              "      border-top-color: var(--fill-color);\n",
              "    }\n",
              "    60% {\n",
              "      border-color: transparent;\n",
              "      border-right-color: var(--fill-color);\n",
              "    }\n",
              "    80% {\n",
              "      border-color: transparent;\n",
              "      border-right-color: var(--fill-color);\n",
              "      border-bottom-color: var(--fill-color);\n",
              "    }\n",
              "    90% {\n",
              "      border-color: transparent;\n",
              "      border-bottom-color: var(--fill-color);\n",
              "    }\n",
              "  }\n",
              "</style>\n",
              "\n",
              "      <script>\n",
              "        async function quickchart(key) {\n",
              "          const quickchartButtonEl =\n",
              "            document.querySelector('#' + key + ' button');\n",
              "          quickchartButtonEl.disabled = true;  // To prevent multiple clicks.\n",
              "          quickchartButtonEl.classList.add('colab-df-spinner');\n",
              "          try {\n",
              "            const charts = await google.colab.kernel.invokeFunction(\n",
              "                'suggestCharts', [key], {});\n",
              "          } catch (error) {\n",
              "            console.error('Error during call to suggestCharts:', error);\n",
              "          }\n",
              "          quickchartButtonEl.classList.remove('colab-df-spinner');\n",
              "          quickchartButtonEl.classList.add('colab-df-quickchart-complete');\n",
              "        }\n",
              "        (() => {\n",
              "          let quickchartButtonEl =\n",
              "            document.querySelector('#df-8b8e69d0-642d-48a7-95b8-9edcd5abde77 button');\n",
              "          quickchartButtonEl.style.display =\n",
              "            google.colab.kernel.accessAllowed ? 'block' : 'none';\n",
              "        })();\n",
              "      </script>\n",
              "    </div>\n",
              "\n",
              "  <div id=\"id_a17178fc-01bb-4121-a40c-998e05b847f2\">\n",
              "    <style>\n",
              "      .colab-df-generate {\n",
              "        background-color: #E8F0FE;\n",
              "        border: none;\n",
              "        border-radius: 50%;\n",
              "        cursor: pointer;\n",
              "        display: none;\n",
              "        fill: #1967D2;\n",
              "        height: 32px;\n",
              "        padding: 0 0 0 0;\n",
              "        width: 32px;\n",
              "      }\n",
              "\n",
              "      .colab-df-generate:hover {\n",
              "        background-color: #E2EBFA;\n",
              "        box-shadow: 0px 1px 2px rgba(60, 64, 67, 0.3), 0px 1px 3px 1px rgba(60, 64, 67, 0.15);\n",
              "        fill: #174EA6;\n",
              "      }\n",
              "\n",
              "      [theme=dark] .colab-df-generate {\n",
              "        background-color: #3B4455;\n",
              "        fill: #D2E3FC;\n",
              "      }\n",
              "\n",
              "      [theme=dark] .colab-df-generate:hover {\n",
              "        background-color: #434B5C;\n",
              "        box-shadow: 0px 1px 3px 1px rgba(0, 0, 0, 0.15);\n",
              "        filter: drop-shadow(0px 1px 2px rgba(0, 0, 0, 0.3));\n",
              "        fill: #FFFFFF;\n",
              "      }\n",
              "    </style>\n",
              "    <button class=\"colab-df-generate\" onclick=\"generateWithVariable('pca_components_results')\"\n",
              "            title=\"Generate code using this dataframe.\"\n",
              "            style=\"display:none;\">\n",
              "\n",
              "  <svg xmlns=\"http://www.w3.org/2000/svg\" height=\"24px\"viewBox=\"0 0 24 24\"\n",
              "       width=\"24px\">\n",
              "    <path d=\"M7,19H8.4L18.45,9,17,7.55,7,17.6ZM5,21V16.75L18.45,3.32a2,2,0,0,1,2.83,0l1.4,1.43a1.91,1.91,0,0,1,.58,1.4,1.91,1.91,0,0,1-.58,1.4L9.25,21ZM18.45,9,17,7.55Zm-12,3A5.31,5.31,0,0,0,4.9,8.1,5.31,5.31,0,0,0,1,6.5,5.31,5.31,0,0,0,4.9,4.9,5.31,5.31,0,0,0,6.5,1,5.31,5.31,0,0,0,8.1,4.9,5.31,5.31,0,0,0,12,6.5,5.46,5.46,0,0,0,6.5,12Z\"/>\n",
              "  </svg>\n",
              "    </button>\n",
              "    <script>\n",
              "      (() => {\n",
              "      const buttonEl =\n",
              "        document.querySelector('#id_a17178fc-01bb-4121-a40c-998e05b847f2 button.colab-df-generate');\n",
              "      buttonEl.style.display =\n",
              "        google.colab.kernel.accessAllowed ? 'block' : 'none';\n",
              "\n",
              "      buttonEl.onclick = () => {\n",
              "        google.colab.notebook.generateWithVariable('pca_components_results');\n",
              "      }\n",
              "      })();\n",
              "    </script>\n",
              "  </div>\n",
              "\n",
              "    </div>\n",
              "  </div>\n"
            ],
            "application/vnd.google.colaboratory.intrinsic+json": {
              "type": "dataframe",
              "variable_name": "pca_components_results",
              "summary": "{\n  \"name\": \"pca_components_results\",\n  \"rows\": 1800,\n  \"fields\": [\n    {\n      \"column\": \"N\",\n      \"properties\": {\n        \"dtype\": \"number\",\n        \"std\": 55,\n        \"min\": 0,\n        \"max\": 199,\n        \"num_unique_values\": 200,\n        \"samples\": [\n          44,\n          80,\n          69\n        ],\n        \"semantic_type\": \"\",\n        \"description\": \"\"\n      }\n    },\n    {\n      \"column\": \"Noise\",\n      \"properties\": {\n        \"dtype\": \"category\",\n        \"num_unique_values\": 6,\n        \"samples\": [\n          \"speckle\",\n          \"localvar\",\n          \"pepper\"\n        ],\n        \"semantic_type\": \"\",\n        \"description\": \"\"\n      }\n    },\n    {\n      \"column\": \"MSE\",\n      \"properties\": {\n        \"dtype\": \"number\",\n        \"std\": 0.0032783672636017436,\n        \"min\": 0.0018316913534371,\n        \"max\": 0.0211420655250549,\n        \"num_unique_values\": 1800,\n        \"samples\": [\n          0.0082472013309597,\n          0.0033984490073814,\n          0.0032724782358855\n        ],\n        \"semantic_type\": \"\",\n        \"description\": \"\"\n      }\n    },\n    {\n      \"column\": \"PSNR\",\n      \"properties\": {\n        \"dtype\": \"number\",\n        \"std\": 2.2679191302700223,\n        \"min\": 16.43219757080078,\n        \"max\": 27.055148501392974,\n        \"num_unique_values\": 1799,\n        \"samples\": [\n          24.08835800110152,\n          25.744649130830915,\n          20.669437408447266\n        ],\n        \"semantic_type\": \"\",\n        \"description\": \"\"\n      }\n    }\n  ]\n}"
            }
          },
          "metadata": {},
          "execution_count": 3
        }
      ]
    },
    {
      "cell_type": "markdown",
      "source": [
        "# Using Optuna to finding the best results with both kernel and normal PCA, then, comparing\n"
      ],
      "metadata": {
        "id": "bwbMK4X7E9NM"
      }
    },
    {
      "cell_type": "markdown",
      "source": [
        "Para a realização dos experimentos anteriores, notou-se a necessidade de repetir muitos processos, a fim de encontrar a melhor combinação de hiperparâmetros. Para evitar isso, foi usado o Optuna, um framework que permite encontrar os melhores hiperparâmetros para funções. Uma das aplicações do Optuna é em aprendizado de máquina, onde deseja-se encontrar quantas camadas uma rede deve ter, quantos neurônios, funções de ativação e etc.\n",
        "\n",
        "Para este trabalho, o Optuna foi usado para testar diferentes kernels, gamas, alfas, coeficientes e graus, além do número de componentes principais. Dois testes foram feitos, um para encontrar os hiperparâmetros do kernel PCA, para cada tipo de ruído e o segundo foi para encontrar o melhor número de componentes principais do PCA, para cada tipo de ruído.\n",
        "\n",
        "Com isso, foi possível encontrar, para cada ruído, qual tipo de PCA é capaz de obter o melhor resultado. Concluiu-se, portanto, que o kernel PCA obtem os melhores resultados de redução de ruído, apesar da diferença ser pequena:\n",
        "\n",
        "**Gaussian**\n",
        "*   Kernel: 24.751847662794376\n",
        "*   PCA: 24.02337293220809\n",
        "\n",
        "**Localvar**\n",
        "*   Kernel: 24.974876234548816\n",
        "*   PCA: 24.030955194269524\n",
        "\n",
        "**Salt**\n",
        "*   Kernel: 23.55797004699707\n",
        "*   PCA: 23.06627082824707\n",
        "\n",
        "**Pepper**\n",
        "*   Kernel: 22.80729103088379\n",
        "*   PCA: 22.427791595458984\n",
        "\n",
        "**S&P**\n",
        "*   Kernel: 23.862224578857422\n",
        "*   PCA: 23.279590606689453\n",
        "\n",
        "**Speckle**\n",
        "*   Kernel: 27.44611452542037\n",
        "*   PCA: 26.526247574368085"
      ],
      "metadata": {
        "id": "yTqfze45FAys"
      }
    }
  ]
}